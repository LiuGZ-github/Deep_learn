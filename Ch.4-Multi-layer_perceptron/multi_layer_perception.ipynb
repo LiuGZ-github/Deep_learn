{
 "cells": [
  {
   "cell_type": "code",
   "execution_count": 1,
   "id": "91caca08-5ddf-4fc9-9f39-cff678909871",
   "metadata": {},
   "outputs": [],
   "source": [
    "import torch\n",
    "from torch import nn\n",
    "from d2l import torch as d2l\n",
    "\n",
    "batch_size = 256\n",
    "train_iter, test_iter = d2l.load_data_fashion_mnist(batch_size)"
   ]
  },
  {
   "cell_type": "code",
   "execution_count": 2,
   "id": "96703fa3-05df-47f6-90c2-c73a2af76a76",
   "metadata": {},
   "outputs": [],
   "source": [
    "num_inputs, num_outputs, num_hiddens = 784, 10, 256\n",
    "\n",
    "W1 = nn.Parameter(torch.randn(\n",
    "    num_inputs, num_hiddens, requires_grad=True) * 0.01)\n",
    "b1 = nn.Parameter(torch.zeros(num_hiddens, requires_grad=True))\n",
    "W2 = nn.Parameter(torch.randn(\n",
    "    num_hiddens, num_outputs, requires_grad=True) * 0.01)\n",
    "b2 = nn.Parameter(torch.zeros(num_outputs, requires_grad=True))\n",
    "\n",
    "params = [W1, b1, W2, b2]"
   ]
  },
  {
   "cell_type": "code",
   "execution_count": 3,
   "id": "de1cec17-b637-4f37-ae8a-f14488a8dc75",
   "metadata": {},
   "outputs": [],
   "source": [
    "def relu(X):\n",
    "    a = torch.zeros_like(X)\n",
    "    return torch.max(X, a)"
   ]
  },
  {
   "cell_type": "code",
   "execution_count": 4,
   "id": "694e3ca8-d6ac-4a07-a6b2-ab4318549181",
   "metadata": {},
   "outputs": [],
   "source": [
    "def net(X):\n",
    "    X = X.reshape((-1, num_inputs))\n",
    "    H = relu(X@W1 + b1)  # 这里“@”代表矩阵乘法\n",
    "    return (H@W2 + b2)"
   ]
  },
  {
   "cell_type": "code",
   "execution_count": 5,
   "id": "0f39b9a5-d3a4-45b5-b22d-70c7fd821c4f",
   "metadata": {},
   "outputs": [],
   "source": [
    "loss = nn.CrossEntropyLoss(reduction='none')"
   ]
  },
  {
   "cell_type": "code",
   "execution_count": 6,
   "id": "dfa18dd9-26d7-4f7f-b3d0-341889cc9ee0",
   "metadata": {},
   "outputs": [
    {
     "name": "stdout",
     "output_type": "stream",
     "text": [
      "Epoch 1: train loss 1.040, train acc 0.643, test acc 0.740\n",
      "Epoch 2: train loss 0.600, train acc 0.788, test acc 0.799\n",
      "Epoch 3: train loss 0.519, train acc 0.819, test acc 0.825\n",
      "Epoch 4: train loss 0.481, train acc 0.832, test acc 0.811\n",
      "Epoch 5: train loss 0.456, train acc 0.841, test acc 0.801\n",
      "Epoch 6: train loss 0.433, train acc 0.847, test acc 0.838\n",
      "Epoch 7: train loss 0.417, train acc 0.854, test acc 0.820\n",
      "Epoch 8: train loss 0.407, train acc 0.856, test acc 0.848\n",
      "Epoch 9: train loss 0.395, train acc 0.861, test acc 0.848\n",
      "Epoch 10: train loss 0.383, train acc 0.864, test acc 0.845\n"
     ]
    }
   ],
   "source": [
    "num_epochs, lr = 10, 0.1\n",
    "updater = torch.optim.SGD(params, lr=lr)\n",
    "d2l.train_ch3(net, train_iter, test_iter, loss, num_epochs, updater)"
   ]
  },
  {
   "cell_type": "code",
   "execution_count": null,
   "id": "de44c4bb-bc7d-4fb6-947f-9d919fe651ed",
   "metadata": {},
   "outputs": [],
   "source": []
  }
 ],
 "metadata": {
  "kernelspec": {
   "display_name": "Python 3 (ipykernel)",
   "language": "python",
   "name": "python3"
  },
  "language_info": {
   "codemirror_mode": {
    "name": "ipython",
    "version": 3
   },
   "file_extension": ".py",
   "mimetype": "text/x-python",
   "name": "python",
   "nbconvert_exporter": "python",
   "pygments_lexer": "ipython3",
   "version": "3.9.20"
  }
 },
 "nbformat": 4,
 "nbformat_minor": 5
}
