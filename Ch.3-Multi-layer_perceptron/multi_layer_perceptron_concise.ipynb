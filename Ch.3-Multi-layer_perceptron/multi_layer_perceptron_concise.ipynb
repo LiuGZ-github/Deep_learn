{
 "cells": [
  {
   "cell_type": "code",
   "execution_count": 1,
   "id": "c3393726-f62f-4a11-a70a-42a82a8ef1ea",
   "metadata": {},
   "outputs": [],
   "source": [
    "import torch\n",
    "from torch import nn\n",
    "from d2l import torch as d2l"
   ]
  },
  {
   "cell_type": "code",
   "execution_count": 2,
   "id": "daf66086-f558-4e9c-8b30-c4f1e976485c",
   "metadata": {},
   "outputs": [
    {
     "data": {
      "text/plain": [
       "Sequential(\n",
       "  (0): Flatten(start_dim=1, end_dim=-1)\n",
       "  (1): Linear(in_features=784, out_features=256, bias=True)\n",
       "  (2): ReLU()\n",
       "  (3): Linear(in_features=256, out_features=10, bias=True)\n",
       ")"
      ]
     },
     "execution_count": 2,
     "metadata": {},
     "output_type": "execute_result"
    }
   ],
   "source": [
    "net = nn.Sequential(\n",
    "                    nn.Flatten(),\n",
    "                    nn.Linear(784, 256),\n",
    "                    nn.ReLU(),\n",
    "                    nn.Linear(256, 10)\n",
    ")\n",
    "\n",
    "def init_weight(m):\n",
    "    if type(m) == nn.Linear:\n",
    "        nn.init.normal_(m.weight, std=0.01)\n",
    "\n",
    "net.apply(init_weight)"
   ]
  },
  {
   "cell_type": "code",
   "execution_count": 3,
   "id": "4bdb7acb-f888-4853-8068-04f015e1c60a",
   "metadata": {},
   "outputs": [
    {
     "name": "stdout",
     "output_type": "stream",
     "text": [
      "Epoch 1: train loss 1.041, train acc 0.635, test acc 0.752\n",
      "Epoch 2: train loss 0.601, train acc 0.789, test acc 0.775\n",
      "Epoch 3: train loss 0.514, train acc 0.820, test acc 0.796\n",
      "Epoch 4: train loss 0.478, train acc 0.833, test acc 0.815\n",
      "Epoch 5: train loss 0.452, train acc 0.840, test acc 0.825\n",
      "Epoch 6: train loss 0.431, train acc 0.847, test acc 0.815\n",
      "Epoch 7: train loss 0.415, train acc 0.854, test acc 0.798\n",
      "Epoch 8: train loss 0.403, train acc 0.857, test acc 0.826\n",
      "Epoch 9: train loss 0.390, train acc 0.863, test acc 0.848\n",
      "Epoch 10: train loss 0.381, train acc 0.865, test acc 0.845\n"
     ]
    }
   ],
   "source": [
    "batch_size, lr, num_epochs = 256, 0.1, 10\n",
    "loss = nn.CrossEntropyLoss(reduction='none')\n",
    "trainer = torch.optim.SGD(net.parameters(), lr=lr)\n",
    "\n",
    "train_iter, test_iter = d2l.load_data_fashion_mnist(batch_size)\n",
    "d2l.train_ch3(net, train_iter, test_iter, loss, num_epochs, trainer)"
   ]
  },
  {
   "cell_type": "code",
   "execution_count": null,
   "id": "1c9dfd61-e61c-45b8-9628-26e280d74a5c",
   "metadata": {},
   "outputs": [],
   "source": []
  }
 ],
 "metadata": {
  "kernelspec": {
   "display_name": "Python 3 (ipykernel)",
   "language": "python",
   "name": "python3"
  },
  "language_info": {
   "codemirror_mode": {
    "name": "ipython",
    "version": 3
   },
   "file_extension": ".py",
   "mimetype": "text/x-python",
   "name": "python",
   "nbconvert_exporter": "python",
   "pygments_lexer": "ipython3",
   "version": "3.9.20"
  }
 },
 "nbformat": 4,
 "nbformat_minor": 5
}
