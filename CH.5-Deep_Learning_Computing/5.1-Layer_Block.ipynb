{
 "cells": [
  {
   "cell_type": "code",
   "execution_count": 1,
   "id": "65aabd7a-63d8-4dbe-8842-1cc7cca40e13",
   "metadata": {},
   "outputs": [],
   "source": [
    "import torch\n",
    "from torch import nn\n",
    "from torch.nn import functional as F"
   ]
  },
  {
   "cell_type": "code",
   "execution_count": 2,
   "id": "02ee4f25-a1be-4b85-b944-9623ebf25bd1",
   "metadata": {},
   "outputs": [
    {
     "data": {
      "text/plain": [
       "tensor([[-0.0522,  0.0948, -0.0159, -0.0558,  0.0991, -0.0595, -0.2030,  0.0051,\n",
       "         -0.0843,  0.1441],\n",
       "        [-0.0256,  0.2283, -0.0608, -0.0135,  0.0392, -0.0968, -0.3012,  0.0817,\n",
       "         -0.1332,  0.0629]], grad_fn=<AddmmBackward0>)"
      ]
     },
     "execution_count": 2,
     "metadata": {},
     "output_type": "execute_result"
    }
   ],
   "source": [
    "net = nn.Sequential(nn.Linear(20, 256), nn.ReLU(), nn.Linear(256, 10))\n",
    "x = torch.rand(2, 20)\n",
    "net(x)"
   ]
  },
  {
   "cell_type": "code",
   "execution_count": 3,
   "id": "107dfc2b-c493-4f57-bf2a-fd10e4938d02",
   "metadata": {},
   "outputs": [],
   "source": [
    "class MLP(nn.Module):\n",
    "    def __init__(self):\n",
    "        super().__init__()\n",
    "        self.hidden = nn.Linear(20, 256)\n",
    "        self.out = nn.Linear(256, 10)\n",
    "    def forward(self, X):\n",
    "        return self.out(F.relu(self.hidden(X)))"
   ]
  },
  {
   "cell_type": "code",
   "execution_count": 6,
   "id": "59bedca0-f468-44a0-90e5-7ae83c20a098",
   "metadata": {},
   "outputs": [
    {
     "data": {
      "text/plain": [
       "tensor([[-0.0349,  0.0687, -0.0080,  0.0244,  0.0476, -0.1822,  0.1992,  0.0818,\n",
       "         -0.2425, -0.2073],\n",
       "        [-0.1301,  0.0603, -0.0659,  0.0373,  0.1093,  0.0076,  0.0553,  0.0057,\n",
       "         -0.1421, -0.2748]], grad_fn=<AddmmBackward0>)"
      ]
     },
     "execution_count": 6,
     "metadata": {},
     "output_type": "execute_result"
    }
   ],
   "source": [
    "net = MLP()\n",
    "net.forward(x)"
   ]
  },
  {
   "cell_type": "code",
   "execution_count": 7,
   "id": "c601a69e-ed34-4d9f-8cf3-b3058bdaa81a",
   "metadata": {},
   "outputs": [],
   "source": [
    "class MySequential(nn.Module):\n",
    "    def __init__(self, *args):\n",
    "        super().__init__()\n",
    "        for idx, module in enumerate(args):\n",
    "            self._modules[str(idx)] = module\n",
    "    def forward(self, X):\n",
    "        for block in self._modules.values():\n",
    "            X = block(X)\n",
    "        return X"
   ]
  },
  {
   "cell_type": "code",
   "execution_count": 8,
   "id": "55f9dc57-aa99-48f7-878b-db689461abea",
   "metadata": {},
   "outputs": [
    {
     "data": {
      "text/plain": [
       "tensor([[-0.0184, -0.1486, -0.1323,  0.0667,  0.1622,  0.1296, -0.0553,  0.2700,\n",
       "          0.2256, -0.1512],\n",
       "        [-0.0077, -0.0934, -0.0644, -0.0414,  0.2293, -0.0290, -0.1314,  0.1088,\n",
       "          0.1430, -0.2465]], grad_fn=<AddmmBackward0>)"
      ]
     },
     "execution_count": 8,
     "metadata": {},
     "output_type": "execute_result"
    }
   ],
   "source": [
    "net = MySequential(nn.Linear(20, 256), nn.ReLU(), nn.Linear(256, 10))\n",
    "net.forward(x)"
   ]
  },
  {
   "cell_type": "code",
   "execution_count": 9,
   "id": "525919ea-c377-4cd2-a4e9-c67406d7d6a5",
   "metadata": {},
   "outputs": [],
   "source": [
    "class FixedHiddenMLP(nn.Module):\n",
    "    def __init__(self):\n",
    "        super().__init__()\n",
    "        self.rand_weight = torch.rand((20, 20), requires_grad=False)\n",
    "        self.linear = nn.Linear(20, 20)\n",
    "    def forward(self, X):\n",
    "            X = self.linear(X)\n",
    "            # 使用创建的常量参数以及relu和mm函数\n",
    "            X = F.relu(torch.mm(X, self.rand_weight) + 1)\n",
    "            # 复用全连接层。这相当于两个全连接层共享参数\n",
    "            X = self.linear(X)\n",
    "            # 控制流\n",
    "            while X.abs().sum() > 1:\n",
    "                X /= 2\n",
    "            return X.sum()"
   ]
  },
  {
   "cell_type": "code",
   "execution_count": 11,
   "id": "609c1f94-e6fc-40f7-a06e-51a1a9675625",
   "metadata": {},
   "outputs": [
    {
     "data": {
      "text/plain": [
       "tensor(0.3116, grad_fn=<SumBackward0>)"
      ]
     },
     "execution_count": 11,
     "metadata": {},
     "output_type": "execute_result"
    }
   ],
   "source": [
    "net = FixedHiddenMLP()\n",
    "net(x)"
   ]
  },
  {
   "cell_type": "code",
   "execution_count": 13,
   "id": "11d6ec25-5094-4113-b103-23344d2eda01",
   "metadata": {},
   "outputs": [
    {
     "data": {
      "text/plain": [
       "tensor(0.1148, grad_fn=<SumBackward0>)"
      ]
     },
     "execution_count": 13,
     "metadata": {},
     "output_type": "execute_result"
    }
   ],
   "source": [
    "class NestMLP(nn.Module):\n",
    "    def __init__(self):\n",
    "        super().__init__()\n",
    "        self.net = nn.Sequential(nn.Linear(20, 64), nn.ReLU(),\n",
    "                                 nn.Linear(64, 32), nn.ReLU())\n",
    "        self.linear = nn.Linear(32, 16)\n",
    "\n",
    "    def forward(self, X):\n",
    "        return self.linear(self.net(X))\n",
    "\n",
    "chimera = nn.Sequential(NestMLP(), nn.Linear(16, 20), FixedHiddenMLP())\n",
    "chimera(x)"
   ]
  },
  {
   "cell_type": "code",
   "execution_count": null,
   "id": "6a0bcc4f-551c-4dd7-87b6-b98f2b7e8afe",
   "metadata": {},
   "outputs": [],
   "source": []
  }
 ],
 "metadata": {
  "kernelspec": {
   "display_name": "Python 3 (ipykernel)",
   "language": "python",
   "name": "python3"
  },
  "language_info": {
   "codemirror_mode": {
    "name": "ipython",
    "version": 3
   },
   "file_extension": ".py",
   "mimetype": "text/x-python",
   "name": "python",
   "nbconvert_exporter": "python",
   "pygments_lexer": "ipython3",
   "version": "3.9.20"
  }
 },
 "nbformat": 4,
 "nbformat_minor": 5
}
